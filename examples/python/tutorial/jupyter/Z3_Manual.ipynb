{
 "cells": [
  {
   "cell_type": "markdown",
   "metadata": {},
   "source": [
    "# www \n",
    "https://ericpony.github.io/z3py-tutorial/guide-examples.htm"
   ]
  },
  {
   "cell_type": "code",
   "execution_count": 1,
   "metadata": {},
   "outputs": [],
   "source": [
    "from z3 import *"
   ]
  },
  {
   "cell_type": "markdown",
   "metadata": {},
   "source": [
    "# Z3 API in Python\n",
    "\n",
    "Z3 is a high performance theorem prover developed at Microsoft Research. Z3 is used in many applications such as: software/hardware verification and testing, constraint solving, analysis of hybrid systems, security, biology (in silico analysis), and geometrical problems.\n",
    "\n",
    "This tutorial demonstrates the main capabilities of Z3Py: the Z3 API in Python. No Python background is needed to read this tutorial. However, it is useful to learn Python (a fun language!) at some point, and there are many excellent free resources for doing so (Python Tutorial).\n",
    "\n",
    "The Z3 distribution also contains the C, .Net and OCaml APIs. The source code of Z3Py is available in the Z3 distribution, feel free to modify it to meet your needs. The source code also demonstrates how to use new features in Z3 4.0. Other cool front-ends for Z3 include Scala^Z3 and SBV.\n",
    "\n",
    "Be sure to follow along with the examples by clicking the load in editor link in the corner. See what Z3Py says, try your own scripts, and experiment!\n",
    "\n",
    "Please send feedback, comments and/or corrections to leonardo@microsoft.com. Your comments are very valuable.\n",
    "\n"
   ]
  },
  {
   "cell_type": "markdown",
   "metadata": {},
   "source": [
    "# Getting Started\n",
    "\n",
    "Let us start with the following simple example:\n",
    "\n",
    "Make z3 available via import!\n",
    "\n"
   ]
  },
  {
   "cell_type": "code",
   "execution_count": 2,
   "metadata": {},
   "outputs": [],
   "source": [
    "from z3 import *\n",
    "#PKHG> works dir(z3)"
   ]
  },
  {
   "cell_type": "code",
   "execution_count": 3,
   "metadata": {},
   "outputs": [
    {
     "name": "stdout",
     "output_type": "stream",
     "text": [
      "[y = 0, x = 7]\n"
     ]
    }
   ],
   "source": [
    "x = Int('x')\n",
    "y = Int('y')\n",
    "solve(x > 2, y < 10, x + 2*y == 7)"
   ]
  },
  {
   "cell_type": "markdown",
   "metadata": {},
   "source": [
    "The function Int('x') creates an integer variable in Z3 named x. \n",
    "The solve function solves a system of constraints.\n",
    "The example above uses two variables x and y, and three constraints. \n",
    "Z3Py like Python uses = for assignment. \n",
    "The operators <, <=, >, >=, == and != for comparison. \n",
    "In the example above, the expression x + 2*y == 7 is a Z3 constraint.\n",
    "Z3 can solve and crunch formulas.\n",
    "\n",
    "The next examples show how to use the Z3 formula/expression simplifier.\n",
    "\n"
   ]
  },
  {
   "cell_type": "code",
   "execution_count": 4,
   "metadata": {},
   "outputs": [
    {
     "name": "stdout",
     "output_type": "stream",
     "text": [
      "3 + 3*x + y\n",
      "Not(y <= -2)\n",
      "And(x >= 2, 2*x**2 + y**2 >= 3)\n"
     ]
    }
   ],
   "source": [
    "x = Int('x')\n",
    "y = Int('y')\n",
    "print(simplify(x + y + 2*x + 3))\n",
    "print(simplify(x < y + x + 2))\n",
    "print(simplify(And(x + 1 >= 3, x**2 + x**2 + y**2 + 2 >= 5)))"
   ]
  },
  {
   "cell_type": "markdown",
   "metadata": {},
   "source": [
    "By default, Z3Py (for the web) displays formulas and expressions using mathematical notation. As usual, ∧ is the logical and, ∨ is the logical or, and so on. The command set_option(html_mode=False) makes all formulas and expressions to be displayed in Z3Py notation. This is also the default mode for the offline version of Z3Py that comes with the Z3 distribution."
   ]
  },
  {
   "cell_type": "code",
   "execution_count": 5,
   "metadata": {},
   "outputs": [
    {
     "name": "stdout",
     "output_type": "stream",
     "text": [
      "x**2 + y**2 >= 1\n",
      "x**2 + y**2 >= 1\n"
     ]
    }
   ],
   "source": [
    "x = Int('x')\n",
    "y = Int('y')\n",
    "print(x**2 + y**2 >= 1)\n",
    "set_option(html_mode=False)\n",
    "print(x**2 + y**2 >= 1)"
   ]
  },
  {
   "cell_type": "markdown",
   "metadata": {},
   "source": [
    "# html mode: use copy paste into a markdown-cell\n",
    "After execution"
   ]
  },
  {
   "cell_type": "code",
   "execution_count": 6,
   "metadata": {},
   "outputs": [
    {
     "name": "stdout",
     "output_type": "stream",
     "text": [
      "x<sup>2</sup> + y<sup>2</sup> &ge; 1\n"
     ]
    }
   ],
   "source": [
    "set_option(html_mode=True)\n",
    "print(x**2 + y**2 >= 1)"
   ]
  },
  {
   "cell_type": "markdown",
   "metadata": {},
   "source": [
    "# copied from the printed result:\n",
    "x<sup>2</sup> + y<sup>2</sup> &ge; 1"
   ]
  },
  {
   "cell_type": "markdown",
   "metadata": {},
   "source": [
    "Z3 provides functions for traversing expressions."
   ]
  },
  {
   "cell_type": "code",
   "execution_count": 7,
   "metadata": {},
   "outputs": [
    {
     "name": "stdout",
     "output_type": "stream",
     "text": [
      "num args:  2\n",
      "children:  [x + y, 3]\n",
      "1st child: x + y\n",
      "2nd child: 3\n",
      "operator:  &ge;\n",
      "op name:   >=\n"
     ]
    }
   ],
   "source": [
    "x = Int('x')\n",
    "y = Int('y')\n",
    "n = x + y >= 3\n",
    "print(\"num args: \", n.num_args())\n",
    "print(\"children: \", n.children())\n",
    "print(\"1st child:\", n.arg(0))\n",
    "print(\"2nd child:\", n.arg(1))\n",
    "print(\"operator: \", n.decl())\n",
    "print(\"op name:  \", n.decl().name())"
   ]
  },
  {
   "cell_type": "markdown",
   "metadata": {},
   "source": [
    "Z3 provides all basic mathematical operations. \n",
    "Z3Py uses the same operator precedence of the Python language. \n",
    "Like Python, ** is the power operator. \n",
    "Z3 can solve nonlinear polynomial constraints."
   ]
  },
  {
   "cell_type": "code",
   "execution_count": 8,
   "metadata": {},
   "outputs": [
    {
     "name": "stdout",
     "output_type": "stream",
     "text": [
      "[x = 1/8, y = 639/128]\n"
     ]
    }
   ],
   "source": [
    "x = Real('x')\n",
    "y = Real('y')\n",
    "solve(x**2 + 0.12 * y**2 > 3, x**3 + y < 5)\n",
    "#PKHG>change to original: 0.12 * befor y**2 added"
   ]
  },
  {
   "cell_type": "markdown",
   "metadata": {},
   "source": [
    "The procedure Real('x') creates the real variable x. Z3Py can represent arbitrarily large integers, rational numbers (like in the example above), and irrational algebraic numbers. An irrational algebraic number is a root of a polynomial with integer coefficients. Internally, Z3 represents all these numbers precisely. The irrational numbers are displayed in decimal notation for making it easy to read the results."
   ]
  },
  {
   "cell_type": "code",
   "execution_count": 9,
   "metadata": {},
   "outputs": [
    {
     "name": "stdout",
     "output_type": "stream",
     "text": [
      "[x = 1.2599210498?, y = -1.1885280594?]\n",
      "Solving, and displaying result with 30 decimal places\n",
      "[x = 1.259921049894873164767210607278?,\n",
      " y = -1.188528059421316533710369365015?]\n"
     ]
    }
   ],
   "source": [
    "x = Real('x')\n",
    "y = Real('y')\n",
    "solve(x**2 + y**2 == 3, x**3 == 2)\n",
    "\n",
    "set_option(precision=30)\n",
    "print(\"Solving, and displaying result with 30 decimal places\")\n",
    "solve(x**2 + y**2 == 3, x**3 == 2)"
   ]
  },
  {
   "cell_type": "markdown",
   "metadata": {},
   "source": [
    "# The procedure <font color='green'>set_option</font> is used to configure the Z3 environment. \n",
    "It is used to set global configuration options such as how the result is displayed. The option set_option(precision=30) sets the number of decimal places used when displaying results. \n",
    "\n",
    "The <font color='red' size=24>?</font> mark in 1.259921049894873164767210607278? indicates the output is truncated.\n",
    "\n",
    "The following example demonstrates a common mistake. The expression 3/2 is a Python integer and not a Z3 rational number. The example also shows different ways to create rational numbers in Z3Py. The procedure Q(num, den) creates a Z3 rational where num is the numerator and den is the denominator.\n",
    "The RealVal(1) creates a Z3 real number representing \n",
    "the number 1."
   ]
  },
  {
   "cell_type": "code",
   "execution_count": 10,
   "metadata": {},
   "outputs": [
    {
     "name": "stdout",
     "output_type": "stream",
     "text": [
      "0.3333333333333333\n",
      "1/3\n",
      "1/3\n",
      "x + 3333333333333333/10000000000000000\n",
      "x + 1/3\n",
      "x + 1/3\n",
      "x + 1/4\n"
     ]
    }
   ],
   "source": [
    "print(1/3)\n",
    "print(RealVal(1)/3)\n",
    "print(Q(1,3))\n",
    "\n",
    "x = Real('x')\n",
    "print(x + 1/3)\n",
    "print(x + Q(1,3))\n",
    "print(x + \"1/3\")\n",
    "print(x + 0.25)\n"
   ]
  },
  {
   "cell_type": "markdown",
   "metadata": {},
   "source": [
    "\n",
    "Rational numbers can also be displayed in decimal\n",
    "notation."
   ]
  },
  {
   "cell_type": "code",
   "execution_count": 11,
   "metadata": {},
   "outputs": [
    {
     "name": "stdout",
     "output_type": "stream",
     "text": [
      "[x = 1/3]\n"
     ]
    }
   ],
   "source": [
    "x = Real('x')\n",
    "solve(3*x == 1)"
   ]
  },
  {
   "cell_type": "code",
   "execution_count": 12,
   "metadata": {},
   "outputs": [
    {
     "name": "stdout",
     "output_type": "stream",
     "text": [
      "[x = 0.333333333333333333333333333333?]\n",
      "[x = 0.33333333333333333333?]\n",
      "[x = 37/6]\n"
     ]
    }
   ],
   "source": [
    "\n",
    "set_option(rational_to_decimal=True)\n",
    "solve(3*x == 1)\n",
    "\n",
    "set_option(precision=20)\n",
    "solve(3*x == 1)\n",
    "set_option(rational_to_decimal=False)\n",
    "solve(6*x == 37)"
   ]
  },
  {
   "cell_type": "markdown",
   "metadata": {},
   "source": [
    "A system of constraints may not have a solution.\n",
    "In this case, we say the system is unsatisfiable."
   ]
  },
  {
   "cell_type": "code",
   "execution_count": 13,
   "metadata": {},
   "outputs": [
    {
     "name": "stdout",
     "output_type": "stream",
     "text": [
      "no solution\n"
     ]
    }
   ],
   "source": [
    "x = Real('x')\n",
    "solve(x > 4, x < 0)"
   ]
  },
  {
   "cell_type": "markdown",
   "metadata": {},
   "source": [
    "\n",
    "Like in Python, comments begin with the hash character # and are terminated by the end of line. Z3Py does not support comments that span more than one line.\n",
    "Boolean Logic"
   ]
  },
  {
   "cell_type": "code",
   "execution_count": 14,
   "metadata": {},
   "outputs": [
    {
     "name": "stdout",
     "output_type": "stream",
     "text": [
      "x**2 + 2*x + 2\n"
     ]
    }
   ],
   "source": [
    "set_option(html_mode=False)\n",
    "# This is a comment\n",
    "x = Real('x') # comment: creating x\n",
    "print(x**2 + 2*x + 2) # comment: printing polynomial)"
   ]
  },
  {
   "cell_type": "markdown",
   "metadata": {},
   "source": [
    "# Boolean Logic\n",
    "\n",
    "Z3 supports Boolean operators: And, Or, Not, Implies (implication), If (if-then-else). \n",
    "Bi-implications are represented using equality ==. \n",
    "The following example shows how to solve\n",
    "a simple set of Boolean constraints.\n"
   ]
  },
  {
   "cell_type": "code",
   "execution_count": 15,
   "metadata": {},
   "outputs": [
    {
     "name": "stdout",
     "output_type": "stream",
     "text": [
      "[p = False, q = True, r = False]\n"
     ]
    }
   ],
   "source": [
    "p = Bool('p')\n",
    "q = Bool('q')\n",
    "r = Bool('r')\n",
    "solve(Implies(p, q), r == Not(q), Or(Not(p), r))"
   ]
  },
  {
   "cell_type": "markdown",
   "metadata": {},
   "source": [
    "The Python Boolean constants True and False\n",
    "can be used to build Z3 Boolean expressions.\n"
   ]
  },
  {
   "cell_type": "code",
   "execution_count": 16,
   "metadata": {},
   "outputs": [
    {
     "name": "stdout",
     "output_type": "stream",
     "text": [
      "And(p, q, True)\n",
      "And(p, q)\n",
      "False\n"
     ]
    }
   ],
   "source": [
    "p = Bool('p')\n",
    "q = Bool('q')\n",
    "print(And(p, q, True))\n",
    "print(simplify(And(p, q, True)))\n",
    "print(simplify(And(p, False)))"
   ]
  },
  {
   "cell_type": "markdown",
   "metadata": {},
   "source": [
    "The following example uses a combination of polynomial and Boolean constraints."
   ]
  },
  {
   "cell_type": "code",
   "execution_count": 17,
   "metadata": {},
   "outputs": [
    {
     "name": "stdout",
     "output_type": "stream",
     "text": [
      "[x = -1.4142135623?, p = False]\n"
     ]
    }
   ],
   "source": [
    "p = Bool('p')\n",
    "x = Real('x')\n",
    "solve(Or(x < 5, x > 10), Or(p, x**2 == 2), Not(p))"
   ]
  },
  {
   "cell_type": "markdown",
   "metadata": {},
   "source": [
    "# Solvers\n",
    "\n",
    "\n",
    "Z3 provides different solvers. The command solve, used in the previous examples, is implemented using the Z3 solver API. The implementation can be found in the file z3.py in the Z3 distribution. The following example demonstrates the basic Solver API.\n"
   ]
  },
  {
   "cell_type": "code",
   "execution_count": 18,
   "metadata": {},
   "outputs": [
    {
     "name": "stdout",
     "output_type": "stream",
     "text": [
      "[]\n",
      "[x > 10, y == x + 2]\n",
      "Solving constraints in the solver s ...\n",
      "sat\n",
      "Create a new scope...\n",
      "[x > 10, y == x + 2, y < 11]\n",
      "Solving updated set of constraints...\n",
      "unsat\n",
      "Restoring state...\n",
      "[x > 10, y == x + 2]\n",
      "Solving restored set of constraints...\n",
      "sat\n"
     ]
    }
   ],
   "source": [
    "x = Int('x')\n",
    "y = Int('y')\n",
    "\n",
    "s = Solver()\n",
    "print(s)\n",
    "\n",
    "s.add(x > 10, y == x + 2)\n",
    "print(s)\n",
    "print(\"Solving constraints in the solver s ...\")\n",
    "print(s.check())\n",
    "\n",
    "print(\"Create a new scope...\")\n",
    "s.push()\n",
    "s.add(y < 11)\n",
    "print(s)\n",
    "print(\"Solving updated set of constraints...\")\n",
    "print(s.check())\n",
    "\n",
    "print(\"Restoring state...\")\n",
    "s.pop()\n",
    "print(s)\n",
    "print(\"Solving restored set of constraints...\")\n",
    "print(s.check())"
   ]
  },
  {
   "cell_type": "markdown",
   "metadata": {},
   "source": [
    "# Info ...\n",
    "The command Solver() creates a general purpose solver. Constraints can be added using the method add. We say the constraints have been asserted in the solver. The method check() solves the asserted constraints. The result is sat (satisfiable) if a solution was found. The result is unsat (unsatisfiable) if no solution exists. We may also say the system of asserted constraints is infeasible. Finally, a solver may fail to solve a system of constraints and unknown is returned.\n",
    "\n",
    "In some applications, we want to explore several similar problems that share several constraints. We can use the commands push and pop for doing that. Each solver maintains a stack of assertions. The command push creates a new scope by saving the current stack size. The command pop removes any assertion performed between it and the matching push. The check method always operates on the content of solver assertion stack.\n",
    "\n",
    "The following example shows an example that Z3 cannot solve. The solver returns unknown in this case. Recall that Z3 can solve nonlinear polynomial constraints, but 2**x is not a polynomial.\n"
   ]
  },
  {
   "cell_type": "code",
   "execution_count": 19,
   "metadata": {},
   "outputs": [
    {
     "name": "stdout",
     "output_type": "stream",
     "text": [
      "unknown\n"
     ]
    }
   ],
   "source": [
    "x = Real('x')\n",
    "s = Solver()\n",
    "s.add(2**x == 3)\n",
    "print(s.check())\n"
   ]
  },
  {
   "cell_type": "markdown",
   "metadata": {},
   "source": [
    "The following example shows how to traverse the constraints asserted into a solver, and how to collect performance statistics for the check method.\n"
   ]
  },
  {
   "cell_type": "code",
   "execution_count": 20,
   "metadata": {},
   "outputs": [
    {
     "name": "stdout",
     "output_type": "stream",
     "text": [
      "asserted constraints...\n",
      "x > 1\n",
      "y > 1\n",
      "Or(x + y > 3, x - y < 2)\n",
      "sat\n",
      "statistics for the last check method...\n",
      "(:arith-make-feasible 3\n",
      " :arith-max-columns   8\n",
      " :arith-max-rows      2\n",
      " :arith-rows          12\n",
      " :arith-upper         4\n",
      " :decisions           2\n",
      " :final-checks        1\n",
      " :max-memory          3.33\n",
      " :memory              3.00\n",
      " :mk-bool-var         10\n",
      " :num-allocs          458856\n",
      " :num-checks          1\n",
      " :rlimit-count        4344)\n",
      "mk bool var : 1\n",
      "decisions : 2\n",
      "final checks : 1\n",
      "num checks : 1\n",
      "mk bool var : 5\n",
      "arith-upper : 4\n",
      "arith-rows : 12\n",
      "arith-make-feasible : 3\n",
      "arith-max-columns : 8\n",
      "arith-max-rows : 2\n",
      "mk bool var : 1\n",
      "mk bool var : 1\n",
      "mk bool var : 1\n",
      "mk bool var : 1\n",
      "num allocs : 458867\n",
      "rlimit count : 4344\n",
      "max memory : 3.33\n",
      "memory : 3.0\n"
     ]
    }
   ],
   "source": [
    "x = Real('x')\n",
    "y = Real('y')\n",
    "s = Solver()\n",
    "s.add(x > 1, y > 1, Or(x + y > 3, x - y < 2))\n",
    "print(\"asserted constraints...\")\n",
    "for c in s.assertions():\n",
    "    print(c)\n",
    "\n",
    "print(s.check())\n",
    "print(\"statistics for the last check method...\")\n",
    "print(s.statistics())\n",
    "# Traversing statistics\n",
    "for k, v in s.statistics():\n",
    "    print(\"%s : %s\" % (k, v))"
   ]
  },
  {
   "cell_type": "markdown",
   "metadata": {},
   "source": [
    "The command check returns sat when Z3 finds a solution for the set of asserted constraints. We say Z3 satisfied the set of constraints. We say the solution is a model for the set of asserted constraints. A model is an interpretation that makes each asserted constraint true. \n",
    "\n",
    "### The following example shows the basic methods for inspecting models.\n"
   ]
  },
  {
   "cell_type": "code",
   "execution_count": 21,
   "metadata": {},
   "outputs": [
    {
     "name": "stdout",
     "output_type": "stream",
     "text": [
      "sat\n",
      "x = 3/2\n",
      "traversing model...\n",
      "z = 0\n",
      "y = 2\n",
      "x = 3/2\n"
     ]
    }
   ],
   "source": [
    "x, y, z = Reals('x y z')\n",
    "s = Solver()\n",
    "s.add(x > 1, y > 1, x + y > 3, z - x < 10)\n",
    "print(s.check())\n",
    "\n",
    "m = s.model()\n",
    "print(\"x = %s\" % m[x])\n",
    "\n",
    "print(\"traversing model...\")\n",
    "for d in m.decls():\n",
    "    print(\"%s = %s\" % (d.name(), m[d]))\n"
   ]
  },
  {
   "cell_type": "markdown",
   "metadata": {},
   "source": [
    "In the example above, the function Reals('x y z') creates the variables. x, y and z. It is shorthand for:\n"
   ]
  },
  {
   "cell_type": "code",
   "execution_count": 22,
   "metadata": {},
   "outputs": [],
   "source": [
    "x = Real('x')\n",
    "y = Real('y')\n",
    "z = Real('z')"
   ]
  },
  {
   "cell_type": "markdown",
   "metadata": {},
   "source": [
    "The expression m[x] returns the interpretation of x in the model m. The expression \"%s = %s\" % (d.name(), m[d]) returns a string where the first %s is replaced with the name of d (i.e., d.name()), and the second %s with a textual representation of the interpretation of d (i.e., m[d]). Z3Py automatically converts Z3 objects into a textual representation when needed.\n",
    "\n",
    "# Arithmetic"
   ]
  },
  {
   "cell_type": "markdown",
   "metadata": {},
   "source": [
    "Z3 supports real and integer variables. They can be mixed in a single problem. Like most programming languages, Z3Py will automatically add coercions converting integer expressions to real ones when needed. The following example demonstrates different ways to declare integer and real variables."
   ]
  },
  {
   "cell_type": "code",
   "execution_count": 23,
   "metadata": {},
   "outputs": [
    {
     "name": "stdout",
     "output_type": "stream",
     "text": [
      "x + ToReal(y) + 1 + a + ToReal(s)\n",
      "ToReal(y) + c\n"
     ]
    }
   ],
   "source": [
    "x = Real('x')\n",
    "y = Int('y')\n",
    "a, b, c = Reals('a b c')\n",
    "s, r = Ints('s r')\n",
    "print(x + y + 1 + (a + s))\n",
    "print(ToReal(y) + c)"
   ]
  },
  {
   "cell_type": "markdown",
   "metadata": {},
   "source": [
    "The function ToReal casts an integer expression into a real expression.\n",
    "\n",
    "\n",
    "Z3Py supports all basic arithmetic operations.\n"
   ]
  },
  {
   "cell_type": "code",
   "execution_count": 24,
   "metadata": {},
   "outputs": [
    {
     "name": "stdout",
     "output_type": "stream",
     "text": [
      "[c = 0, b = 0, e = 0, d = 0, a = 10]\n"
     ]
    }
   ],
   "source": [
    "a, b, c = Ints('a b c')\n",
    "d, e = Reals('d e')\n",
    "solve(a > b + 2,\n",
    "      a == 2*c + 10,\n",
    "      c + b <= 1000,\n",
    "      d >= e)\n"
   ]
  },
  {
   "cell_type": "markdown",
   "metadata": {},
   "source": [
    "The command simplify applies simple transformations on Z3 expressions."
   ]
  },
  {
   "cell_type": "code",
   "execution_count": 25,
   "metadata": {},
   "outputs": [
    {
     "name": "stdout",
     "output_type": "stream",
     "text": [
      "x*x*x + 3*x*x*y + 3*x*y*y + y*y*y\n",
      "x**3 + 3*x**2*y + 3*x*y**2 + y**3\n"
     ]
    }
   ],
   "source": [
    "x, y = Reals('x y')\n",
    "# Put expression in sum-of-monomials form\n",
    "t = simplify((x + y)**3, som=True)\n",
    "print(t)\n",
    "# Use power operator\n",
    "t = simplify(t, mul_to_power=True)\n",
    "print(t)\n"
   ]
  },
  {
   "cell_type": "markdown",
   "metadata": {},
   "source": [
    "The command help_simplify() prints all available options. Z3Py allows users to write option in two styles. The Z3 internal option names start with : and words are separated by -. These options can be used in Z3Py. Z3Py also supports Python-like names, where : is suppressed and - is replaced with _. The following example demonstrates how to use both styles."
   ]
  },
  {
   "cell_type": "code",
   "execution_count": 26,
   "metadata": {},
   "outputs": [
    {
     "name": "stdout",
     "output_type": "stream",
     "text": [
      "x + -1*y == 2\n",
      "x + -1*y == 2\n",
      "\n",
      "All available options:\n",
      "algebraic_number_evaluator (bool) simplify/evaluate expressions containing (algebraic) irrational numbers. (default: true)\n",
      "arith_ineq_lhs (bool) rewrite inequalities so that right-hand-side is a constant. (default: false)\n",
      "arith_lhs (bool) all monomials are moved to the left-hand-side, and the right-hand-side is just a constant. (default: false)\n",
      "bit2bool (bool) try to convert bit-vector terms of size 1 into Boolean terms (default: true)\n",
      "blast_distinct (bool) expand a distinct predicate into a quadratic number of disequalities (default: false)\n",
      "blast_distinct_threshold (unsigned int) when blast_distinct is true, only distinct expressions with less than this number of arguments are blasted (default: 4294967295)\n",
      "blast_eq_value (bool) blast (some) Bit-vector equalities into bits (default: false)\n",
      "bv_extract_prop (bool) attempt to partially propagate extraction inwards (default: false)\n",
      "bv_ineq_consistency_test_max (unsigned int) max size of conjunctions on which to perform consistency test based on inequalities on bitvectors. (default: 0)\n",
      "bv_ite2id (bool) rewrite ite that can be simplified to identity (default: false)\n",
      "bv_le_extra (bool) additional bu_(u/s)le simplifications (default: false)\n",
      "bv_not_simpl (bool) apply simplifications for bvnot (default: false)\n",
      "bv_sort_ac (bool) sort the arguments of all AC operators (default: false)\n",
      "bv_trailing (bool) lean removal of trailing zeros (default: false)\n",
      "bv_urem_simpl (bool) additional simplification for bvurem (default: false)\n",
      "bvnot2arith (bool) replace (bvnot x) with (bvsub -1 x) (default: false)\n",
      "cache_all (bool) cache all intermediate results. (default: false)\n",
      "elim_and (bool) conjunctions are rewritten using negation and disjunctions (default: false)\n",
      "elim_ite (bool) eliminate ite in favor of and/or (default: true)\n",
      "elim_rem (bool) replace (rem x y) with (ite (>= y 0) (mod x y) (- (mod x y))). (default: false)\n",
      "elim_sign_ext (bool) expand sign-ext operator using concat and extract (default: true)\n",
      "elim_to_real (bool) eliminate to_real from arithmetic predicates that contain only integers. (default: false)\n",
      "eq2ineq (bool) expand equalities into two inequalities (default: false)\n",
      "expand_power (bool) expand (^ t k) into (* t ... t) if  1 < k <= max_degree. (default: false)\n",
      "expand_select_store (bool) replace a (select (store ...) ...) term by an if-then-else term (default: false)\n",
      "expand_store_eq (bool) reduce (store ...) = (store ...) with a common base into selects (default: false)\n",
      "expand_tan (bool) replace (tan x) with (/ (sin x) (cos x)). (default: false)\n",
      "flat (bool) create nary applications for and,or,+,*,bvadd,bvmul,bvand,bvor,bvxor (default: true)\n",
      "gcd_rounding (bool) use gcd rounding on integer arithmetic atoms. (default: false)\n",
      "hi_div0 (bool) use the 'hardware interpretation' for division by zero (for bit-vector terms) (default: true)\n",
      "hoist_cmul (bool) hoist constant multiplication over summation to minimize number of multiplications (default: false)\n",
      "hoist_mul (bool) hoist multiplication over summation to minimize number of multiplications (default: false)\n",
      "ignore_patterns_on_ground_qbody (bool) ignores patterns on quantifiers that don't mention their bound variables. (default: true)\n",
      "ite_extra_rules (bool) extra ite simplifications, these additional simplifications may reduce size locally but increase globally (default: false)\n",
      "local_ctx (bool) perform local (i.e., cheap) context simplifications (default: false)\n",
      "local_ctx_limit (unsigned int) limit for applying local context simplifier (default: 4294967295)\n",
      "max_degree (unsigned int) max degree of algebraic numbers (and power operators) processed by simplifier. (default: 64)\n",
      "max_memory (unsigned int) maximum amount of memory in megabytes (default: 4294967295)\n",
      "max_steps (unsigned int) maximum number of steps (default: 4294967295)\n",
      "mul2concat (bool) replace multiplication by a power of two into a concatenation (default: false)\n",
      "mul_to_power (bool) collpase (* t ... t) into (^ t k), it is ignored if expand_power is true. (default: false)\n",
      "pull_cheap_ite (bool) pull if-then-else terms when cheap. (default: false)\n",
      "push_ite_arith (bool) push if-then-else over arithmetic terms. (default: false)\n",
      "push_ite_bv (bool) push if-then-else over bit-vector terms. (default: false)\n",
      "push_to_real (bool) distribute to_real over * and +. (default: true)\n",
      "rewrite_patterns (bool) rewrite patterns. (default: false)\n",
      "som (bool) put polynomials in som-of-monomials form (default: false)\n",
      "som_blowup (unsigned int) maximum number of monomials generated when putting a polynomial in sum-of-monomials normal form (default: 4294967295)\n",
      "sort_store (bool) sort nested stores when the indices are known to be different (default: false)\n",
      "sort_sums (bool) sort the arguments of + application. (default: false)\n",
      "split_concat_eq (bool) split equalities of the form (= (concat t1 t2) t3) (default: false)\n",
      "udiv2mul (bool) convert constant udiv to mul (default: false)\n",
      "\n"
     ]
    }
   ],
   "source": [
    "x, y = Reals('x y')\n",
    "# Using Z3 native option names\n",
    "print(simplify(x == y + 2, ':arith-lhs', True))\n",
    "# Using Z3Py option names\n",
    "print(simplify(x == y + 2, arith_lhs=True))\n",
    "\n",
    "print(\"\\nAll available options:\")\n",
    "help_simplify()"
   ]
  },
  {
   "cell_type": "markdown",
   "metadata": {},
   "source": [
    "# large numbers\n",
    "Z3Py supports arbitrarily large numbers. The following example demonstrates how to perform basic arithmetic using larger integer, rational and irrational numbers. Z3Py only supports algebraic irrational numbers. Algebraic irrational numbers are sufficient for presenting the solutions of systems of polynomial constraints. Z3Py will always display irrational numbers in decimal notation since it is more convenient to read. The internal representation can be extracted using the method sexpr(). It displays Z3 internal representation for mathematical formulas and expressions in s-expression (Lisp-like) notation.\n"
   ]
  },
  {
   "cell_type": "code",
   "execution_count": 27,
   "metadata": {},
   "outputs": [
    {
     "name": "stdout",
     "output_type": "stream",
     "text": [
      "[y = 20000000000000001, x = -9999979999999999999999]\n",
      "2**(1/2) + 3**(1/2)\n",
      "3.1462643699?\n",
      "(root-obj (+ (^ x 4) (* (- 10) (^ x 2)) 1) 4)\n",
      "(+ x (* (^ y (/ 1.0 2.0)) 2.0))\n"
     ]
    }
   ],
   "source": [
    "x, y = Reals('x y')\n",
    "solve(x + 10000000000000000000000 == y, y > 20000000000000000)\n",
    "\n",
    "print(Sqrt(2) + Sqrt(3))\n",
    "print(simplify(Sqrt(2) + Sqrt(3)))\n",
    "print(simplify(Sqrt(2) + Sqrt(3)).sexpr())\n",
    "# The sexpr() method is available for any Z3 expression\n",
    "print((x + Sqrt(y) * 2).sexpr())\n"
   ]
  },
  {
   "cell_type": "markdown",
   "metadata": {},
   "source": [
    "# Machine Arithmetic\n",
    "\n",
    "\n",
    "Modern CPUs and main-stream programming languages use arithmetic over fixed-size bit-vectors. Machine arithmetic is available in Z3Py as Bit-Vectors. They implement the precise semantics of unsigned and of signed two-complements arithmetic.\n",
    "\n",
    "The following example demonstrates how to create bit-vector variables and constants. The function BitVec('x', 16) creates a bit-vector variable in Z3 named x with 16 bits. For convenience, integer constants can be used to create bit-vector expressions in Z3Py. The function BitVecVal(10, 32) creates a bit-vector of size 32 containing the value 10.\n"
   ]
  },
  {
   "cell_type": "code",
   "execution_count": 28,
   "metadata": {},
   "outputs": [
    {
     "name": "stdout",
     "output_type": "stream",
     "text": [
      "x + 2\n",
      "(bvadd x #x0002)\n",
      "65535 + x + y\n",
      "True\n",
      "False\n"
     ]
    }
   ],
   "source": [
    "x = BitVec('x', 16)\n",
    "y = BitVec('y', 16)\n",
    "print(x + 2)\n",
    "# Internal representation\n",
    "print((x + 2).sexpr())\n",
    "\n",
    "# -1 is equal to 65535 for 16-bit integers \n",
    "print(simplify(x + y - 1))\n",
    "\n",
    "# Creating bit-vector constants\n",
    "a = BitVecVal(-1, 16)\n",
    "b = BitVecVal(65535, 16)\n",
    "print(simplify(a == b))\n",
    "\n",
    "a = BitVecVal(-1, 32)\n",
    "b = BitVecVal(65535, 32)\n",
    "# -1 is not equal to 65535 for 32-bit integers \n",
    "print(simplify(a == b))"
   ]
  },
  {
   "cell_type": "markdown",
   "metadata": {},
   "source": [
    "# In contrast to programming languages, such as\n",
    "C, C++, C#, Java, there is no distinction between signed and unsigned bit-vectors as numbers. Instead, Z3 provides special signed versions of arithmetical operations where it makes a difference whether the bit-vector is treated as signed or unsigned. In Z3Py, the operators <, <=, >, >=, /, % and >> correspond to the signed versions. The corresponding unsigned operators are ULT, ULE, UGT, UGE, UDiv, URem and LShR.\n"
   ]
  },
  {
   "cell_type": "code",
   "execution_count": 29,
   "metadata": {},
   "outputs": [
    {
     "name": "stdout",
     "output_type": "stream",
     "text": [
      "[y = 1, x = 1]\n"
     ]
    }
   ],
   "source": [
    "# Create to bit-vectors of size 32\n",
    "x, y = BitVecs('x y', 32)\n",
    "\n",
    "solve(x + y == 2, x > 0, y > 0)\n",
    "\n"
   ]
  },
  {
   "cell_type": "code",
   "execution_count": 30,
   "metadata": {},
   "outputs": [
    {
     "name": "stdout",
     "output_type": "stream",
     "text": [
      "[y = 4294967295, x = 0]\n",
      "[x = 4294967295]\n",
      "no solution\n"
     ]
    }
   ],
   "source": [
    "# Bit-wise operators\n",
    "# & bit-wise and\n",
    "# | bit-wise or\n",
    "# ~ bit-wise not\n",
    "solve(x & y == ~y)\n",
    "\n",
    "solve(x < 0)\n",
    "\n",
    "# using unsigned version of < \n",
    "solve(ULT(x, 0))"
   ]
  },
  {
   "cell_type": "markdown",
   "metadata": {},
   "source": [
    "The operator >> is the arithmetic shift right, and << is the shift left. \n",
    "\n",
    "The logical shift right is the operator LShR.\n",
    "\n"
   ]
  },
  {
   "cell_type": "code",
   "execution_count": 31,
   "metadata": {},
   "outputs": [
    {
     "name": "stdout",
     "output_type": "stream",
     "text": [
      "[x = 12]\n",
      "no solution\n",
      "[x = 6]\n"
     ]
    }
   ],
   "source": [
    " # Create to bit-vectors of size 32\n",
    "x, y = BitVecs('x y', 32)\n",
    "\n",
    "solve(x >> 2 == 3)\n",
    "\n",
    "solve(x << 2 == 3)\n",
    "\n",
    "solve(x << 2 == 24)"
   ]
  },
  {
   "cell_type": "markdown",
   "metadata": {},
   "source": [
    "# Functions"
   ]
  },
  {
   "cell_type": "markdown",
   "metadata": {},
   "source": [
    "\n",
    "Unlike programming languages, where functions have side-effects, can throw exceptions, or never return, functions in Z3 have no side-effects and are total. That is, they are defined on all input values. This includes functions, such as division. Z3 is based on first-order logic.\n",
    "\n",
    "Given a constraints such as x + y > 3, we have been saying that x and y are variables. In many textbooks, x and y are called uninterpreted constants. That is, they allow any interpretation that is consistent with the constraint x + y > 3.\n",
    "\n",
    "More precisely, function and constant symbols in pure first-order logic are uninterpreted or free, which means that no a priori interpretation is attached. This is in contrast to functions belonging to the signature of theories, such as arithmetic where the function + has a fixed standard interpretation (it adds two numbers). Uninterpreted functions and constants are maximally flexible; they allow any interpretation that is consistent with the constraints over the function or constant.\n",
    "\n",
    "To illustrate uninterpreted functions and constants let us the uninterpreted integer constants (aka variables) x, y. Finally let f be an uninterpreted function that takes one argument of type (aka sort) integer and results in an integer value. The example illustrates how one can force an interpretation where f applied twice to x results in x again, but f applied once to x is different from x.\n"
   ]
  },
  {
   "cell_type": "code",
   "execution_count": 32,
   "metadata": {},
   "outputs": [
    {
     "name": "stdout",
     "output_type": "stream",
     "text": [
      "[x = 0, y = 1, f = [1 -> 0, else -> 1]]\n"
     ]
    }
   ],
   "source": [
    "x = Int('x')\n",
    "y = Int('y')\n",
    "f = Function('f', IntSort(), IntSort())\n",
    "solve(f(f(x)) == x, f(x) == y, x != y)\n"
   ]
  },
  {
   "cell_type": "markdown",
   "metadata": {},
   "source": [
    "The solution (interpretation) for f should be read as f(0) is 1, f(1) is 0, \n",
    "\n",
    "and f(a) is 1 for all a different from 0 and 1."
   ]
  },
  {
   "cell_type": "code",
   "execution_count": 33,
   "metadata": {},
   "outputs": [
    {
     "name": "stdout",
     "output_type": "stream",
     "text": [
      "sat\n",
      "f(f(x)) = 0\n",
      "f(x)    = 1\n"
     ]
    }
   ],
   "source": [
    "#In Z3, we can also evaluate expressions in the model for a system of constraints. The following example shows how to use the evaluate method.\n",
    "\n",
    "x = Int('x')\n",
    "y = Int('y')\n",
    "f = Function('f', IntSort(), IntSort())\n",
    "s = Solver()\n",
    "s.add(f(f(x)) == x, f(x) == y, x != y)\n",
    "print(s.check())\n",
    "m = s.model()\n",
    "print(\"f(f(x)) =\", m.evaluate(f(f(x))))\n",
    "print(\"f(x)    =\", m.evaluate(f(x)))"
   ]
  },
  {
   "cell_type": "code",
   "execution_count": 34,
   "metadata": {},
   "outputs": [
    {
     "name": "stdout",
     "output_type": "stream",
     "text": [
      "sat\n",
      "f(f(x)) = 0\n",
      "f(x)    = 1\n"
     ]
    }
   ],
   "source": [
    " \n",
    "#In Z3, we can also evaluate expressions in the model for a system of constraints. The following example shows how to use the evaluate method.\n",
    "\n",
    "x = Int('x')\n",
    "y = Int('y')\n",
    "f = Function('f', IntSort(), IntSort())\n",
    "s = Solver()\n",
    "s.add(f(f(x)) == x, f(x) == y, x != y)\n",
    "print(s.check())\n",
    "m = s.model()\n",
    "print(\"f(f(x)) =\", m.evaluate(f(f(x))))\n",
    "print(\"f(x)    =\", m.evaluate(f(x)))"
   ]
  },
  {
   "cell_type": "markdown",
   "metadata": {},
   "source": [
    "\n",
    "Satisfiability and Validity\n",
    "\n",
    "A formula/constraint F is valid if F always evaluates to true for any assignment of appropriate values to its uninterpreted symbols. A formula/constraint F is satisfiable if there is some assignment of appropriate values to its uninterpreted symbols under which F evaluates to true. Validity is about finding a proof of a statement; satisfiability is about finding a solution to a set of constraints. Consider a formula F containing a and b. We can ask whether F is valid, that is whether it is always true for any combination of values for a and b. If F is always true, then Not(F) is always false, and then Not(F) will not have any satisfying assignment (i.e., solution); that is, Not(F) is unsatisfiable. That is, F is valid precisely when Not(F) is not satisfiable (is unsatisfiable). Alternately, F is satisfiable if and only if Not(F) is not valid (is invalid). The following example proves the deMorgan's law.\n",
    "\n",
    "The following example redefines the Z3Py function prove that receives a formula as a parameter. This function creates a solver, adds/asserts the negation of the formula, and check if the negation is unsatisfiable. The implementation of this function is a simpler version of the Z3Py command prove.\n"
   ]
  },
  {
   "cell_type": "code",
   "execution_count": 35,
   "metadata": {},
   "outputs": [
    {
     "name": "stdout",
     "output_type": "stream",
     "text": [
      "And(p, q) == Not(Or(Not(p), Not(q)))\n",
      "Proving demorgan...\n",
      "proved\n"
     ]
    }
   ],
   "source": [
    "\n",
    "p, q = Bools('p q')\n",
    "demorgan = And(p, q) == Not(Or(Not(p), Not(q)))\n",
    "print(demorgan)\n",
    "\n",
    "def prove(f):\n",
    "    s = Solver()\n",
    "    s.add(Not(f))\n",
    "    if s.check() == unsat:\n",
    "        print(\"proved\")\n",
    "    else:\n",
    "        print(\"failed to prove\")\n",
    "\n",
    "print(\"Proving demorgan...\")\n",
    "prove(demorgan)"
   ]
  },
  {
   "cell_type": "markdown",
   "metadata": {},
   "source": [
    "# List comprehension\n",
    "\n",
    "Python supports list comprehensions. List comprehensions provide a concise way to create lists. They can be used to create Z3 expressions and problems in Z3Py. The following example demonstrates how to use Python list comprehensions in Z3Py.\n",
    "\n"
   ]
  },
  {
   "cell_type": "code",
   "execution_count": 36,
   "metadata": {},
   "outputs": [
    {
     "name": "stdout",
     "output_type": "stream",
     "text": [
      "[1, 2, 3, 4, 5]\n",
      "[x0, x1, x2, x3, x4]\n",
      "[x0 + y0, x1 + y1, x2 + y2, x3 + y3, x4 + y4]\n",
      "[x0 > y0, x1 > y1, x2 > y2, x3 > y3, x4 > y4]\n",
      "And(x0 > y0, x1 > y1, x2 > y2, x3 > y3, x4 > y4)\n",
      "[[x_1_1, x_1_2, x_1_3],\n",
      " [x_2_1, x_2_2, x_2_3],\n",
      " [x_3_1, x_3_2, x_3_3]]\n"
     ]
    }
   ],
   "source": [
    "\n",
    "# Create list [1, ..., 5] \n",
    "print([ x + 1 for x in range(5) ])\n",
    "\n",
    "# Create two lists containing 5 integer variables\n",
    "X = [ Int('x%s' % i) for i in range(5) ]\n",
    "Y = [ Int('y%s' % i) for i in range(5) ]\n",
    "print(X)\n",
    "\n",
    "# Create a list containing X[i]+Y[i]\n",
    "X_plus_Y = [ X[i] + Y[i] for i in range(5) ]\n",
    "print(X_plus_Y)\n",
    "\n",
    "# Create a list containing X[i] > Y[i]\n",
    "X_gt_Y = [ X[i] > Y[i] for i in range(5) ]\n",
    "print(X_gt_Y)\n",
    "\n",
    "print(And(X_gt_Y))\n",
    "\n",
    "# Create a 3x3 \"matrix\" (list of lists) of integer variables\n",
    "X = [ [ Int(\"x_%s_%s\" % (i+1, j+1)) for j in range(3) ]\n",
    "      for i in range(3) ]\n",
    "pp(X)\n"
   ]
  },
  {
   "cell_type": "markdown",
   "metadata": {},
   "source": [
    "\n",
    "In the example above, the expression \"x%s\" % i returns a string where %s is replaced with the value of i.\n",
    "\n",
    "The command pp is similar to print, but it uses Z3Py formatter for lists and tuples instead of Python's formatter.\n",
    "\n",
    "Z3Py also provides functions for creating vectors of Boolean, Integer and Real variables. These functions are implemented using list comprehensions.\n"
   ]
  },
  {
   "cell_type": "code",
   "execution_count": 37,
   "metadata": {},
   "outputs": [
    {
     "name": "stdout",
     "output_type": "stream",
     "text": [
      "[x__0, x__1, x__2, x__3, x__4]\n",
      "[y__0, y__1, y__2, y__3, y__4]\n",
      "[p__0, p__1, p__2, p__3, p__4]\n",
      "[y__0**2, y__1**2, y__2**2, y__3**2, y__4**2]\n",
      "y__0**2 + y__1**2 + y__2**2 + y__3**2 + y__4**2\n"
     ]
    }
   ],
   "source": [
    "X = IntVector('x', 5)\n",
    "Y = RealVector('y', 5)\n",
    "P = BoolVector('p', 5)\n",
    "print(X)\n",
    "print(Y)\n",
    "print(P)\n",
    "print([ y**2 for y in Y ])\n",
    "print(Sum([ y**2 for y in Y ]))"
   ]
  },
  {
   "cell_type": "markdown",
   "metadata": {},
   "source": [
    "# Kinematic equations\n",
    "\n",
    "In high school, students learn the kinematic equations. These equations describe the mathematical relationship between displacement (d), time (t), acceleration (a), initial velocity (v_i) and final velocity (v_f). In Z3Py notation, we can write these equations as:"
   ]
  },
  {
   "cell_type": "code",
   "execution_count": 38,
   "metadata": {},
   "outputs": [
    {
     "data": {
      "text/plain": [
       "v__f == v__i + a*t"
      ]
     },
     "execution_count": 38,
     "metadata": {},
     "output_type": "execute_result"
    }
   ],
   "source": [
    "a, t ,v_i, v_f = Reals('a t v__i v__f') #missing in HTML?\n",
    "d == v_i * t + (a*t**2)/2,\n",
    "v_f == v_i + a*t\n"
   ]
  },
  {
   "cell_type": "code",
   "execution_count": 39,
   "metadata": {},
   "outputs": [
    {
     "data": {
      "text/plain": [
       "v__f"
      ]
     },
     "execution_count": 39,
     "metadata": {},
     "output_type": "execute_result"
    }
   ],
   "source": [
    "v_f"
   ]
  },
  {
   "cell_type": "markdown",
   "metadata": {},
   "source": [
    "# Problem 1\n",
    "\n",
    "Ima Hurryin is approaching a stoplight moving with a velocity of 30.0 m/s. The light turns yellow, and Ima applies the brakes and skids to a stop. If Ima's acceleration is -8.00 m/s2, then determine the displacement of the car during the skidding process."
   ]
  },
  {
   "cell_type": "code",
   "execution_count": 40,
   "metadata": {},
   "outputs": [
    {
     "name": "stdout",
     "output_type": "stream",
     "text": [
      "Kinematic equations:\n",
      "[d == v__i*t + (a*t**2)/2, v__f == v__i + a*t]\n",
      "Problem:\n",
      "[v__i == 30, v__f == 0, a == -8]\n",
      "Solution:\n",
      "[a = -8, v__f = 0, v__i = 30, t = 15/4, d = 225/4]\n"
     ]
    }
   ],
   "source": [
    "\n",
    "\n",
    "d, a, t, v_i, v_f = Reals('d a t v__i v__f')\n",
    "\n",
    "equations = [\n",
    "   d == v_i * t + (a*t**2)/2,\n",
    "   v_f == v_i + a*t,\n",
    "]\n",
    "print(\"Kinematic equations:\")\n",
    "print(equations)\n",
    "\n",
    "# Given v_i, v_f and a, find d\n",
    "problem = [\n",
    "    v_i == 30,\n",
    "    v_f == 0,\n",
    "    a   == -8\n",
    "]\n",
    "print(\"Problem:\")\n",
    "print(problem)\n",
    "\n",
    "print(\"Solution:\")\n",
    "solve(equations + problem)"
   ]
  },
  {
   "cell_type": "markdown",
   "metadata": {},
   "source": [
    "Problem 2\n",
    "\n",
    "Ben Rushin is waiting at a stoplight. When it finally turns green, Ben accelerated from rest at a rate of a 6.00 m/s2 for a time of 4.10 seconds. Determine the displacement of Ben's car during this time period.\n"
   ]
  },
  {
   "cell_type": "code",
   "execution_count": 41,
   "metadata": {},
   "outputs": [
    {
     "name": "stdout",
     "output_type": "stream",
     "text": [
      "[a = 6, t = 41/10, v__i = 0, v__f = 123/5, d = 5043/100]\n",
      "[a = 6, t = 4.1, v__i = 0, v__f = 24.6, d = 50.43]\n"
     ]
    }
   ],
   "source": [
    "d, a, t, v_i, v_f = Reals('d a t v__i v__f')\n",
    "\n",
    "equations = [\n",
    "   d == v_i * t + (a*t**2)/2,\n",
    "   v_f == v_i + a*t,\n",
    "]\n",
    "\n",
    "# Given v_i, t and a, find d\n",
    "problem = [\n",
    "    v_i == 0,\n",
    "    t   == 4.10,\n",
    "    a   == 6\n",
    "]\n",
    "\n",
    "solve(equations + problem)\n",
    "\n",
    "# Display rationals in decimal notation\n",
    "set_option(rational_to_decimal=True)\n",
    "\n",
    "solve(equations + problem)"
   ]
  },
  {
   "cell_type": "markdown",
   "metadata": {},
   "source": [
    "#Bit Tricks\n",
    "\n",
    "Some low level hacks are very popular with C programmers. We use some of these hacks in the Z3 implementation.\n",
    "\n",
    "Power of two\n",
    "\n",
    "This hack is frequently used in C programs (Z3 included) to test whether a machine integer is a power of two. We can use Z3 to prove it really works. The claim is that x != 0 && !(x & (x - 1)) is true if and only if x is a power of two.\n"
   ]
  },
  {
   "cell_type": "code",
   "execution_count": 42,
   "metadata": {},
   "outputs": [
    {
     "name": "stdout",
     "output_type": "stream",
     "text": [
      "And(x != 0, x & x - 1 == 0)\n",
      "proved\n",
      "trying to prove buggy version...\n",
      "failed to prove\n"
     ]
    }
   ],
   "source": [
    "x      = BitVec('x', 32)\n",
    "powers = [ 2**i for i in range(32) ]\n",
    "fast   = And(x != 0, x & (x - 1) == 0)\n",
    "slow   = Or([ x == p for p in powers ])\n",
    "print(fast)\n",
    "prove(fast == slow)\n",
    "\n",
    "print(\"trying to prove buggy version...\")\n",
    "fast   = x & (x - 1) == 0\n",
    "prove(fast == slow)\n"
   ]
  },
  {
   "cell_type": "markdown",
   "metadata": {},
   "source": [
    "# Opposite signs\n",
    "\n",
    "The following simple hack can be used to test whether two machine integers have opposite signs.\n"
   ]
  },
  {
   "cell_type": "code",
   "execution_count": 43,
   "metadata": {},
   "outputs": [
    {
     "name": "stdout",
     "output_type": "stream",
     "text": [
      "proved\n"
     ]
    }
   ],
   "source": [
    "\n",
    "x      = BitVec('x', 32)\n",
    "y      = BitVec('y', 32)\n",
    "\n",
    "# Claim: (x ^ y) < 0 iff x and y have opposite signs\n",
    "trick  = (x ^ y) < 0\n",
    "\n",
    "# Naive way to check if x and y have opposite signs\n",
    "opposite = Or(And(x < 0, y >= 0),\n",
    "              And(x >= 0, y < 0))\n",
    "\n",
    "prove(trick == opposite)"
   ]
  },
  {
   "cell_type": "markdown",
   "metadata": {},
   "source": [
    "# Puzzles\n",
    "\n",
    "Dog, Cat and Mouse\n",
    "\n",
    "Consider the following puzzle. Spend exactly 100 dollars and buy exactly 100 animals. Dogs cost 15 dollars, cats cost 1 dollar, and mice cost 25 cents each. You have to buy at least one of each. How many of each should you buy?\n"
   ]
  },
  {
   "cell_type": "code",
   "execution_count": 44,
   "metadata": {},
   "outputs": [
    {
     "name": "stdout",
     "output_type": "stream",
     "text": [
      "[cat = 41, mouse = 56, dog = 3]\n"
     ]
    }
   ],
   "source": [
    "# Create 3 integer variables\n",
    "dog, cat, mouse = Ints('dog cat mouse')\n",
    "solve(dog >= 1,   # at least one dog\n",
    "      cat >= 1,   # at least one cat\n",
    "      mouse >= 1, # at least one mouse\n",
    "      # we want to buy 100 animals\n",
    "      dog + cat + mouse == 100,\n",
    "      # We have 100 dollars (10000 cents):\n",
    "      #   dogs cost 15 dollars (1500 cents), \n",
    "      #   cats cost 1 dollar (100 cents), and \n",
    "      #   mice cost 25 cents \n",
    "      1500 * dog + 100 * cat + 25 * mouse == 10000)"
   ]
  },
  {
   "cell_type": "markdown",
   "metadata": {},
   "source": [
    "# Sodoku\n",
    "\n",
    "Sudoku is a very popular puzzle. The goal is to insert the numbers in the boxes to satisfy only one condition: each row, column and 3x3 box must contain the digits 1 through 9 exactly once.\n",
    "\n",
    "\n",
    "The following example encodes the sudoku problem in Z3. Different sudoku instances can be solved by modifying the matrix instance. This example makes heavy use of list comprehensions available in the Python programming language.\n"
   ]
  },
  {
   "cell_type": "code",
   "execution_count": 45,
   "metadata": {},
   "outputs": [
    {
     "name": "stdout",
     "output_type": "stream",
     "text": [
      "[[7, 1, 5, 8, 9, 4, 6, 3, 2],\n",
      " [2, 3, 4, 5, 1, 6, 8, 9, 7],\n",
      " [6, 8, 9, 7, 2, 3, 1, 4, 5],\n",
      " [4, 9, 3, 6, 5, 7, 2, 1, 8],\n",
      " [8, 6, 7, 2, 3, 1, 9, 5, 4],\n",
      " [1, 5, 2, 4, 8, 9, 7, 6, 3],\n",
      " [3, 7, 6, 1, 4, 8, 5, 2, 9],\n",
      " [9, 2, 8, 3, 6, 5, 4, 7, 1],\n",
      " [5, 4, 1, 9, 7, 2, 3, 8, 6]]\n"
     ]
    }
   ],
   "source": [
    "\n",
    " # 9x9 matrix of integer variables\n",
    "X = [ [ Int(\"x_%s_%s\" % (i+1, j+1)) for j in range(9) ]\n",
    "      for i in range(9) ]\n",
    "\n",
    "# each cell contains a value in {1, ..., 9}\n",
    "cells_c  = [ And(1 <= X[i][j], X[i][j] <= 9)\n",
    "             for i in range(9) for j in range(9) ]\n",
    "\n",
    "# each row contains a digit at most once\n",
    "rows_c   = [ Distinct(X[i]) for i in range(9) ]\n",
    "\n",
    "# each column contains a digit at most once\n",
    "cols_c   = [ Distinct([ X[i][j] for i in range(9) ])\n",
    "             for j in range(9) ]\n",
    "\n",
    "# each 3x3 square contains a digit at most once\n",
    "sq_c     = [ Distinct([ X[3*i0 + i][3*j0 + j]\n",
    "                        for i in range(3) for j in range(3) ])\n",
    "             for i0 in range(3) for j0 in range(3) ]\n",
    "\n",
    "sudoku_c = cells_c + rows_c + cols_c + sq_c\n",
    "\n",
    "# sudoku instance, we use '0' for empty cells\n",
    "instance = ((0,0,0,0,9,4,0,3,0),\n",
    "            (0,0,0,5,1,0,0,0,7),\n",
    "            (0,8,9,0,0,0,0,4,0),\n",
    "            (0,0,0,0,0,0,2,0,8),\n",
    "            (0,6,0,2,0,1,0,5,0),\n",
    "            (1,0,2,0,0,0,0,0,0),\n",
    "            (0,7,0,0,0,0,5,2,0),\n",
    "            (9,0,0,0,6,5,0,0,0),\n",
    "            (0,4,0,9,7,0,0,0,0))\n",
    "\n",
    "instance_c = [ If(instance[i][j] == 0,\n",
    "                  True,\n",
    "                  X[i][j] == instance[i][j])\n",
    "               for i in range(9) for j in range(9) ]\n",
    "\n",
    "s = Solver()\n",
    "s.add(sudoku_c + instance_c)\n",
    "if s.check() == sat:\n",
    "    m = s.model()\n",
    "    r = [ [ m.evaluate(X[i][j]) for j in range(9) ]\n",
    "          for i in range(9) ]\n",
    "    print_matrix(r)\n",
    "else:\n",
    "    print(\"failed to solve\")"
   ]
  },
  {
   "cell_type": "markdown",
   "metadata": {},
   "source": [
    "# Eight queens\n",
    "\n",
    "\n",
    "The eight queens puzzle is the problem of placing eight chess queens on an 8x8 chessboard so that no two queens attack each other. Thus, a solution requires that no two queens share the same row, column, or diagonal."
   ]
  },
  {
   "cell_type": "code",
   "execution_count": 46,
   "metadata": {},
   "outputs": [
    {
     "name": "stdout",
     "output_type": "stream",
     "text": [
      "[Q_5 = 1,\n",
      " Q_8 = 7,\n",
      " Q_3 = 8,\n",
      " Q_2 = 2,\n",
      " Q_6 = 3,\n",
      " Q_4 = 6,\n",
      " Q_7 = 5,\n",
      " Q_1 = 4]\n"
     ]
    }
   ],
   "source": [
    "# We know each queen must be in a different row.\n",
    "# So, we represent each queen by a single integer: the column position\n",
    "Q = [ Int('Q_%i' % (i + 1)) for i in range(8) ]\n",
    "\n",
    "# Each queen is in a column {1, ... 8 }\n",
    "val_c = [ And(1 <= Q[i], Q[i] <= 8) for i in range(8) ]\n",
    "\n",
    "# At most one queen per column\n",
    "col_c = [ Distinct(Q) ]\n",
    "\n",
    "# Diagonal constraint\n",
    "diag_c = [ If(i == j,\n",
    "              True,\n",
    "              And(Q[i] - Q[j] != i - j, Q[i] - Q[j] != j - i))\n",
    "           for i in range(8) for j in range(i) ]\n",
    "\n",
    "solve(val_c + col_c + diag_c)"
   ]
  },
  {
   "cell_type": "markdown",
   "metadata": {},
   "source": [
    "# Application: Install Problem\n",
    "\n",
    "The install problem consists of determining whether a new set of packages can be installed in a system. This application is based on the article OPIUM: Optimal Package Install/Uninstall Manager. Many packages depend on other packages to provide some functionality. Each distribution contains a meta-data file that explicates the requirements of each package of the distribution. The meta-data contains details like the name, version, etc. More importantly, it contains depends and conflicts clauses that stipulate which other packages should be on the system. The depends clauses stipulate which other packages must be present. The conflicts clauses stipulate which other packages must not be present.\n",
    "\n",
    "The install problem can be easily solved using Z3. The idea is to define a Boolean variable for each package. This variable is true if the package must be in the system. If package a depends on packages b, c and z, we write:\n"
   ]
  },
  {
   "cell_type": "code",
   "execution_count": 47,
   "metadata": {},
   "outputs": [
    {
     "ename": "Z3Exception",
     "evalue": "Value cannot be converted into a Z3 Boolean value",
     "output_type": "error",
     "traceback": [
      "\u001b[0;31m---------------------------------------------------------------------------\u001b[0m",
      "\u001b[0;31mZ3Exception\u001b[0m                               Traceback (most recent call last)",
      "\u001b[0;32m<ipython-input-47-34051c0c7cc1>\u001b[0m in \u001b[0;36m<module>\u001b[0;34m\u001b[0m\n\u001b[1;32m      7\u001b[0m \u001b[0;31m#Thus, Depends(a, [b, c, z]) generates the constraint\u001b[0m\u001b[0;34m\u001b[0m\u001b[0;34m\u001b[0m\u001b[0;34m\u001b[0m\u001b[0m\n\u001b[1;32m      8\u001b[0m \u001b[0;34m\u001b[0m\u001b[0m\n\u001b[0;32m----> 9\u001b[0;31m \u001b[0mAnd\u001b[0m\u001b[0;34m(\u001b[0m\u001b[0mImplies\u001b[0m\u001b[0;34m(\u001b[0m\u001b[0ma\u001b[0m\u001b[0;34m,\u001b[0m \u001b[0mb\u001b[0m\u001b[0;34m)\u001b[0m\u001b[0;34m,\u001b[0m \u001b[0mImplies\u001b[0m\u001b[0;34m(\u001b[0m\u001b[0ma\u001b[0m\u001b[0;34m,\u001b[0m \u001b[0mc\u001b[0m\u001b[0;34m)\u001b[0m\u001b[0;34m,\u001b[0m \u001b[0mImplies\u001b[0m\u001b[0;34m(\u001b[0m\u001b[0ma\u001b[0m\u001b[0;34m,\u001b[0m \u001b[0mz\u001b[0m\u001b[0;34m)\u001b[0m\u001b[0;34m)\u001b[0m\u001b[0;34m\u001b[0m\u001b[0;34m\u001b[0m\u001b[0m\n\u001b[0m\u001b[1;32m     10\u001b[0m \u001b[0;31m#That is, if users install package a, they must also install packages b, c and z.\u001b[0m\u001b[0;34m\u001b[0m\u001b[0;34m\u001b[0m\u001b[0;34m\u001b[0m\u001b[0m\n\u001b[1;32m     11\u001b[0m \u001b[0;34m\u001b[0m\u001b[0m\n",
      "\u001b[0;32m~/anaconda3/lib/python3.7/site-packages/z3/z3.py\u001b[0m in \u001b[0;36mImplies\u001b[0;34m(a, b, ctx)\u001b[0m\n\u001b[1;32m   1620\u001b[0m     \u001b[0mctx\u001b[0m \u001b[0;34m=\u001b[0m \u001b[0m_get_ctx\u001b[0m\u001b[0;34m(\u001b[0m\u001b[0m_ctx_from_ast_arg_list\u001b[0m\u001b[0;34m(\u001b[0m\u001b[0;34m[\u001b[0m\u001b[0ma\u001b[0m\u001b[0;34m,\u001b[0m \u001b[0mb\u001b[0m\u001b[0;34m]\u001b[0m\u001b[0;34m,\u001b[0m \u001b[0mctx\u001b[0m\u001b[0;34m)\u001b[0m\u001b[0;34m)\u001b[0m\u001b[0;34m\u001b[0m\u001b[0;34m\u001b[0m\u001b[0m\n\u001b[1;32m   1621\u001b[0m     \u001b[0ms\u001b[0m \u001b[0;34m=\u001b[0m \u001b[0mBoolSort\u001b[0m\u001b[0;34m(\u001b[0m\u001b[0mctx\u001b[0m\u001b[0;34m)\u001b[0m\u001b[0;34m\u001b[0m\u001b[0;34m\u001b[0m\u001b[0m\n\u001b[0;32m-> 1622\u001b[0;31m     \u001b[0ma\u001b[0m \u001b[0;34m=\u001b[0m \u001b[0ms\u001b[0m\u001b[0;34m.\u001b[0m\u001b[0mcast\u001b[0m\u001b[0;34m(\u001b[0m\u001b[0ma\u001b[0m\u001b[0;34m)\u001b[0m\u001b[0;34m\u001b[0m\u001b[0;34m\u001b[0m\u001b[0m\n\u001b[0m\u001b[1;32m   1623\u001b[0m     \u001b[0mb\u001b[0m \u001b[0;34m=\u001b[0m \u001b[0ms\u001b[0m\u001b[0;34m.\u001b[0m\u001b[0mcast\u001b[0m\u001b[0;34m(\u001b[0m\u001b[0mb\u001b[0m\u001b[0;34m)\u001b[0m\u001b[0;34m\u001b[0m\u001b[0;34m\u001b[0m\u001b[0m\n\u001b[1;32m   1624\u001b[0m     \u001b[0;32mreturn\u001b[0m \u001b[0mBoolRef\u001b[0m\u001b[0;34m(\u001b[0m\u001b[0mZ3_mk_implies\u001b[0m\u001b[0;34m(\u001b[0m\u001b[0mctx\u001b[0m\u001b[0;34m.\u001b[0m\u001b[0mref\u001b[0m\u001b[0;34m(\u001b[0m\u001b[0;34m)\u001b[0m\u001b[0;34m,\u001b[0m \u001b[0ma\u001b[0m\u001b[0;34m.\u001b[0m\u001b[0mas_ast\u001b[0m\u001b[0;34m(\u001b[0m\u001b[0;34m)\u001b[0m\u001b[0;34m,\u001b[0m \u001b[0mb\u001b[0m\u001b[0;34m.\u001b[0m\u001b[0mas_ast\u001b[0m\u001b[0;34m(\u001b[0m\u001b[0;34m)\u001b[0m\u001b[0;34m)\u001b[0m\u001b[0;34m,\u001b[0m \u001b[0mctx\u001b[0m\u001b[0;34m)\u001b[0m\u001b[0;34m\u001b[0m\u001b[0;34m\u001b[0m\u001b[0m\n",
      "\u001b[0;32m~/anaconda3/lib/python3.7/site-packages/z3/z3.py\u001b[0m in \u001b[0;36mcast\u001b[0;34m(self, val)\u001b[0m\n\u001b[1;32m   1379\u001b[0m                \u001b[0m_z3_assert\u001b[0m\u001b[0;34m(\u001b[0m\u001b[0mis_expr\u001b[0m\u001b[0;34m(\u001b[0m\u001b[0mval\u001b[0m\u001b[0;34m)\u001b[0m\u001b[0;34m,\u001b[0m \u001b[0;34m\"True, False or Z3 Boolean expression expected. Received %s\"\u001b[0m \u001b[0;34m%\u001b[0m \u001b[0mval\u001b[0m\u001b[0;34m)\u001b[0m\u001b[0;34m\u001b[0m\u001b[0;34m\u001b[0m\u001b[0m\n\u001b[1;32m   1380\u001b[0m             \u001b[0;32mif\u001b[0m \u001b[0;32mnot\u001b[0m \u001b[0mself\u001b[0m\u001b[0;34m.\u001b[0m\u001b[0meq\u001b[0m\u001b[0;34m(\u001b[0m\u001b[0mval\u001b[0m\u001b[0;34m.\u001b[0m\u001b[0msort\u001b[0m\u001b[0;34m(\u001b[0m\u001b[0;34m)\u001b[0m\u001b[0;34m)\u001b[0m\u001b[0;34m:\u001b[0m\u001b[0;34m\u001b[0m\u001b[0;34m\u001b[0m\u001b[0m\n\u001b[0;32m-> 1381\u001b[0;31m                \u001b[0m_z3_assert\u001b[0m\u001b[0;34m(\u001b[0m\u001b[0mself\u001b[0m\u001b[0;34m.\u001b[0m\u001b[0meq\u001b[0m\u001b[0;34m(\u001b[0m\u001b[0mval\u001b[0m\u001b[0;34m.\u001b[0m\u001b[0msort\u001b[0m\u001b[0;34m(\u001b[0m\u001b[0;34m)\u001b[0m\u001b[0;34m)\u001b[0m\u001b[0;34m,\u001b[0m \u001b[0;34m\"Value cannot be converted into a Z3 Boolean value\"\u001b[0m\u001b[0;34m)\u001b[0m\u001b[0;34m\u001b[0m\u001b[0;34m\u001b[0m\u001b[0m\n\u001b[0m\u001b[1;32m   1382\u001b[0m         \u001b[0;32mreturn\u001b[0m \u001b[0mval\u001b[0m\u001b[0;34m\u001b[0m\u001b[0;34m\u001b[0m\u001b[0m\n\u001b[1;32m   1383\u001b[0m \u001b[0;34m\u001b[0m\u001b[0m\n",
      "\u001b[0;32m~/anaconda3/lib/python3.7/site-packages/z3/z3.py\u001b[0m in \u001b[0;36m_z3_assert\u001b[0;34m(cond, msg)\u001b[0m\n\u001b[1;32m     96\u001b[0m \u001b[0;32mdef\u001b[0m \u001b[0m_z3_assert\u001b[0m\u001b[0;34m(\u001b[0m\u001b[0mcond\u001b[0m\u001b[0;34m,\u001b[0m \u001b[0mmsg\u001b[0m\u001b[0;34m)\u001b[0m\u001b[0;34m:\u001b[0m\u001b[0;34m\u001b[0m\u001b[0;34m\u001b[0m\u001b[0m\n\u001b[1;32m     97\u001b[0m     \u001b[0;32mif\u001b[0m \u001b[0;32mnot\u001b[0m \u001b[0mcond\u001b[0m\u001b[0;34m:\u001b[0m\u001b[0;34m\u001b[0m\u001b[0;34m\u001b[0m\u001b[0m\n\u001b[0;32m---> 98\u001b[0;31m         \u001b[0;32mraise\u001b[0m \u001b[0mZ3Exception\u001b[0m\u001b[0;34m(\u001b[0m\u001b[0mmsg\u001b[0m\u001b[0;34m)\u001b[0m\u001b[0;34m\u001b[0m\u001b[0;34m\u001b[0m\u001b[0m\n\u001b[0m\u001b[1;32m     99\u001b[0m \u001b[0;34m\u001b[0m\u001b[0m\n\u001b[1;32m    100\u001b[0m \u001b[0;32mdef\u001b[0m \u001b[0m_z3_check_cint_overflow\u001b[0m\u001b[0;34m(\u001b[0m\u001b[0mn\u001b[0m\u001b[0;34m,\u001b[0m \u001b[0mname\u001b[0m\u001b[0;34m)\u001b[0m\u001b[0;34m:\u001b[0m\u001b[0;34m\u001b[0m\u001b[0;34m\u001b[0m\u001b[0m\n",
      "\u001b[0;31mZ3Exception\u001b[0m: Value cannot be converted into a Z3 Boolean value"
     ]
    }
   ],
   "source": [
    "\n",
    "#DependsOn(a, [b, c, z])\n",
    "#DependsOn is a simple Python function that creates Z3 constraints that capture the depends clause semantics.\n",
    "\n",
    "def DependsOn(pack, deps):\n",
    "   return And([ Implies(pack, dep) for dep in deps ])\n",
    "#Thus, Depends(a, [b, c, z]) generates the constraint\n",
    "\n",
    "And(Implies(a, b), Implies(a, c), Implies(a, z))\n",
    "#That is, if users install package a, they must also install packages b, c and z.\n",
    "\n",
    "#If package d conflicts with package e, we write Conflict(d, e). Conflict is also a simple Python function.\n",
    "\n",
    "def Conflict(p1, p2):\n",
    "    return Or(Not(p1), Not(p2))\n",
    "#Conflict(d, e) generates the constraint Or(Not(d), Not(e)). With these two functions, we can easily encode the example in the Opium article (Section 2) in Z3Py as:\n",
    "\n",
    "def DependsOn(pack, deps):\n",
    "    return And([ Implies(pack, dep) for dep in deps ])\n",
    "\n",
    "def Conflict(p1, p2):\n",
    "    return Or(Not(p1), Not(p2))\n",
    "\n",
    "a, b, c, d, e, f, g, z = Bools('a b c d e f g z')\n",
    "\n",
    "solve(DependsOn(a, [b, c, z]),\n",
    "      DependsOn(b, [d]),\n",
    "      DependsOn(c, [Or(d, e), Or(f, g)]),\n",
    "      Conflict(d, e),\n",
    "      a, z)"
   ]
  },
  {
   "cell_type": "code",
   "execution_count": 48,
   "metadata": {},
   "outputs": [
    {
     "name": "stdout",
     "output_type": "stream",
     "text": [
      "[a = True,\n",
      " b = True,\n",
      " c = True,\n",
      " z = True,\n",
      " d = True,\n",
      " e = False,\n",
      " f = True,\n",
      " g = False]\n"
     ]
    }
   ],
   "source": [
    "def DependsOn(pack, deps):\n",
    "    return And([ Implies(pack, dep) for dep in deps ])\n",
    "\n",
    "def Conflict(p1, p2):\n",
    "    return Or(Not(p1), Not(p2))\n",
    "\n",
    "a, b, c, d, e, f, g, z = Bools('a b c d e f g z')\n",
    "\n",
    "solve(DependsOn(a, [b, c, z]),\n",
    "      DependsOn(b, [d]),\n",
    "      DependsOn(c, [Or(d, e), Or(f, g)]),\n",
    "      Conflict(d, e),\n",
    "      a, z)\n"
   ]
  },
  {
   "cell_type": "code",
   "execution_count": 49,
   "metadata": {},
   "outputs": [
    {
     "name": "stdout",
     "output_type": "stream",
     "text": [
      "Check 1\n",
      "[a, b, c, z, d, f]\n",
      "Check 2\n",
      "invalid installation profile\n"
     ]
    }
   ],
   "source": [
    "def install_check(*problem):\n",
    "    s = Solver()\n",
    "    s.add(*problem)\n",
    "    if s.check() == sat:\n",
    "        m = s.model()\n",
    "        r = []\n",
    "        for x in m:\n",
    "            if is_true(m[x]):\n",
    "                # x is a Z3 declaration\n",
    "                # x() returns the Z3 expression\n",
    "                # x.name() returns a string\n",
    "                r.append(x())\n",
    "        print(r)\n",
    "    else:\n",
    "        print(\"invalid installation profile\")\n",
    "\n",
    "print(\"Check 1\")\n",
    "install_check(DependsOn(a, [b, c, z]),\n",
    "              DependsOn(b, [d]),\n",
    "              DependsOn(c, [Or(d, e), Or(f, g)]),\n",
    "              Conflict(d, e),\n",
    "              Conflict(d, g),\n",
    "              a, z)\n",
    "\n",
    "print(\"Check 2\")\n",
    "install_check(DependsOn(a, [b, c, z]),\n",
    "              #DependsOn(b, d),\n",
    "              DependsOn(b, [d]),\n",
    "              DependsOn(c, [Or(d, e), Or(f, g)]),\n",
    "              Conflict(d, e),\n",
    "              Conflict(d, g),\n",
    "              a, z, g)\n"
   ]
  },
  {
   "cell_type": "code",
   "execution_count": null,
   "metadata": {},
   "outputs": [],
   "source": []
  }
 ],
 "metadata": {
  "kernelspec": {
   "display_name": "Python 3",
   "language": "python",
   "name": "python3"
  },
  "language_info": {
   "codemirror_mode": {
    "name": "ipython",
    "version": 3
   },
   "file_extension": ".py",
   "mimetype": "text/x-python",
   "name": "python",
   "nbconvert_exporter": "python",
   "pygments_lexer": "ipython3",
   "version": "3.7.3"
  }
 },
 "nbformat": 4,
 "nbformat_minor": 2
}
